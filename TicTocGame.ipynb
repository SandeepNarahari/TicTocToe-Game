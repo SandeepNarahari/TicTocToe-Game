{
 "cells": [
  {
   "cell_type": "code",
   "execution_count": 1,
   "metadata": {},
   "outputs": [],
   "source": [
    "def check(s,t,u):\n",
    "    if((s[1]==s[3])and(s[3]==s[5])and s[5]!=' '):\n",
    "        print(s[1],' : won the game')\n",
    "    elif((t[1]==t[3])and(t[3]==t[5])and t[5]!=' '):\n",
    "        print(t[1],' : won the game')\n",
    "    elif((u[1]==u[3])and(u[3]==u[5])and u[5]!=' '):\n",
    "        print(u[1],' : won the game')    \n",
    "    elif((s[1]==t[1])and(t[1]==u[1])and u[1]!=' '):\n",
    "        print(s[1],' : won the game')\n",
    "    elif((s[3]==t[3])and(t[3]==u[3])and u[3]!=' '):\n",
    "        print(s[3],' : won the game')\n",
    "    elif((s[5]==t[5])and(t[5]==u[5])and u[5]!=' '):\n",
    "        print(s[5],' : won the game') \n",
    "    elif((s[1]==t[3])and(t[3]==u[5])and u[5]!=' '):\n",
    "        print(s[1],' : won the game')\n",
    "    elif((s[5]==t[3])and(t[3]==u[1])and u[1]!=' '):\n",
    "        print(s[5],' : won the game')\n",
    "    else:\n",
    "        print('game is not yet concluded')"
   ]
  },
  {
   "cell_type": "code",
   "execution_count": 2,
   "metadata": {},
   "outputs": [],
   "source": [
    "a=['|',' ','|',' ','|',' ','|']\n",
    "b=['|',' ','|',' ','|',' ','|']\n",
    "c=['|',' ','|',' ','|',' ','|']\n",
    "def display(p=0,v='a'):\n",
    "    \n",
    "    if(p==1):\n",
    "        c[1]=v\n",
    "    elif(p==2):\n",
    "        c[3]=v\n",
    "    elif(p==3):\n",
    "        c[5]=v\n",
    "    elif(p==4):\n",
    "        b[1]=v\n",
    "    elif(p==5):\n",
    "        b[3]=v\n",
    "    elif(p==6):\n",
    "        b[5]=v\n",
    "    elif(p==7):\n",
    "        a[1]=v\n",
    "    elif(p==8):\n",
    "        a[3]=v\n",
    "    elif(p==9):\n",
    "        a[5]=v\n",
    "    else:\n",
    "        pass\n",
    "         \n",
    "    print(a[0],a[1],a[2],a[3],a[4],a[5],a[6])\n",
    "    print(b[0],b[1],b[2],b[3],b[4],b[5],b[6])\n",
    "    print(c[0],c[1],c[2],c[3],c[4],c[5],c[6])\n",
    "    check(a,b,c)"
   ]
  },
  {
   "cell_type": "code",
   "execution_count": 3,
   "metadata": {},
   "outputs": [
    {
     "name": "stdout",
     "output_type": "stream",
     "text": [
      "Game Started\n",
      "Player 1 choose your symbol O or XO\n",
      "Player 1 do you want to play 1st or not:enter Yes or NoYes\n",
      "enter the position1\n",
      "|   |   |   |\n",
      "|   |   |   |\n",
      "| O |   |   |\n",
      "game is not yet concluded\n",
      "enter the position5\n",
      "|   |   |   |\n",
      "|   | X |   |\n",
      "| O |   |   |\n",
      "game is not yet concluded\n",
      "enter the position3\n",
      "|   |   |   |\n",
      "|   | X |   |\n",
      "| O |   | O |\n",
      "game is not yet concluded\n",
      "enter the position2\n",
      "|   |   |   |\n",
      "|   | X |   |\n",
      "| O | X | O |\n",
      "game is not yet concluded\n",
      "enter the position8\n",
      "|   | O |   |\n",
      "|   | X |   |\n",
      "| O | X | O |\n",
      "game is not yet concluded\n",
      "enter the position9\n",
      "|   | O | X |\n",
      "|   | X |   |\n",
      "| O | X | O |\n",
      "game is not yet concluded\n",
      "enter the position7\n",
      "| O | O | X |\n",
      "|   | X |   |\n",
      "| O | X | O |\n",
      "game is not yet concluded\n",
      "enter the position4\n",
      "| O | O | X |\n",
      "| X | X |   |\n",
      "| O | X | O |\n",
      "game is not yet concluded\n"
     ]
    }
   ],
   "source": [
    "print('Game Started')\n",
    "x=input('Player 1 choose your symbol O or X')\n",
    "if (x=='X'):\n",
    "    y='O'\n",
    "else:\n",
    "    y='X'\n",
    "turn=input('Player 1 do you want to play 1st or not:enter Yes or No')\n",
    "if(turn=='Yes'):\n",
    "    first=x\n",
    "    second=y\n",
    "else:\n",
    "    first=y\n",
    "    second=x\n",
    "for i in range(9):\n",
    "    if((i+1)%2==0):\n",
    "        v=second\n",
    "    else:\n",
    "        v=first\n",
    "    pos=int(input('enter the position'))\n",
    "    display(pos,v)\n",
    "    "
   ]
  },
  {
   "cell_type": "code",
   "execution_count": null,
   "metadata": {},
   "outputs": [],
   "source": []
  },
  {
   "cell_type": "code",
   "execution_count": null,
   "metadata": {},
   "outputs": [],
   "source": []
  },
  {
   "cell_type": "code",
   "execution_count": null,
   "metadata": {},
   "outputs": [],
   "source": []
  },
  {
   "cell_type": "code",
   "execution_count": null,
   "metadata": {},
   "outputs": [],
   "source": []
  },
  {
   "cell_type": "code",
   "execution_count": null,
   "metadata": {},
   "outputs": [],
   "source": []
  },
  {
   "cell_type": "code",
   "execution_count": null,
   "metadata": {},
   "outputs": [],
   "source": []
  },
  {
   "cell_type": "code",
   "execution_count": null,
   "metadata": {},
   "outputs": [],
   "source": []
  }
 ],
 "metadata": {
  "kernelspec": {
   "display_name": "Python 3",
   "language": "python",
   "name": "python3"
  },
  "language_info": {
   "codemirror_mode": {
    "name": "ipython",
    "version": 3
   },
   "file_extension": ".py",
   "mimetype": "text/x-python",
   "name": "python",
   "nbconvert_exporter": "python",
   "pygments_lexer": "ipython3",
   "version": "3.7.3"
  }
 },
 "nbformat": 4,
 "nbformat_minor": 2
}
